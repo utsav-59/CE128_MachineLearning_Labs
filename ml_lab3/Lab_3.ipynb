{
 "cells": [
  {
   "attachments": {},
   "cell_type": "markdown",
   "metadata": {},
   "source": [
    "**Exerise Question**\n",
    "- Task 1: Try the algo on Dataset3 - OneHotEncoding of features and Train test Division 95%-5% "
   ]
  },
  {
   "cell_type": "code",
   "execution_count": 70,
   "metadata": {},
   "outputs": [],
   "source": [
    "#Step 1 Import Libraries\n",
    "import numpy as np\n",
    "import pandas as pd"
   ]
  },
  {
   "cell_type": "code",
   "execution_count": 71,
   "metadata": {},
   "outputs": [
    {
     "name": "stdout",
     "output_type": "stream",
     "text": [
      "\n",
      "Data: \n",
      "    Outlook Temp Wind  Humidity  Class\n",
      "0        R    H    F         1      0\n",
      "1        R    H    T         2      0\n",
      "2        O    H    F         1      1\n",
      "3        R    M    F         1      1\n",
      "4        S    C    F         1      1\n",
      "5        O    C    T         0      0\n",
      "6        O    C    T         1      1\n",
      "7        R    M    F         1      0\n",
      "8        O    C    F         0      1\n",
      "9        S    M    F         2      1\n",
      "10       R    C    T         2      0\n",
      "11       O    M    T         0      1\n",
      "12       O    H    F         1      1\n",
      "13       S    M    T         1      0\n"
     ]
    }
   ],
   "source": [
    "df = pd.read_csv(\"Dataset3.csv\")\n",
    "print(\"\\nData: \\n\", df)"
   ]
  },
  {
   "cell_type": "code",
   "execution_count": 72,
   "metadata": {},
   "outputs": [
    {
     "name": "stdout",
     "output_type": "stream",
     "text": [
      "\n",
      "Inputs: \n",
      "    Outlook Temp Wind  Humidity\n",
      "0        R    H    F         1\n",
      "1        R    H    T         2\n",
      "2        O    H    F         1\n",
      "3        R    M    F         1\n",
      "4        S    C    F         1\n",
      "5        O    C    T         0\n",
      "6        O    C    T         1\n",
      "7        R    M    F         1\n",
      "8        O    C    F         0\n",
      "9        S    M    F         2\n",
      "10       R    C    T         2\n",
      "11       O    M    T         0\n",
      "12       O    H    F         1\n",
      "13       S    M    T         1\n",
      "\n",
      "Label: \n",
      " [0 0 1 1 1 0 1 0 1 1 0 1 1 0]\n"
     ]
    }
   ],
   "source": [
    "X= df.iloc[:, :-1]\n",
    "y = df.iloc[:, -1].values\n",
    "\n",
    "print(\"\\nInputs: \\n\", X)\n",
    "print(\"\\nLabel: \\n\", y)"
   ]
  },
  {
   "cell_type": "code",
   "execution_count": 73,
   "metadata": {},
   "outputs": [],
   "source": [
    "from sklearn.preprocessing import OneHotEncoder\n",
    "onehotencoder = OneHotEncoder()"
   ]
  },
  {
   "cell_type": "code",
   "execution_count": 74,
   "metadata": {},
   "outputs": [],
   "source": [
    "outlook = onehotencoder.fit_transform(X.Outlook.values.reshape(-1,1)).toarray()\n",
    "# print(\"\\nInputs: \\n\", outlook)\n",
    "temp = onehotencoder.fit_transform(X.Temp.values.reshape(-1,1)).toarray()\n",
    "# print(\"\\nInputs: \\n\", temp)\n",
    "wind = onehotencoder.fit_transform(X.Wind.values.reshape(-1,1)).toarray()\n",
    "# print(\"\\nInputs: \\n\", wind)"
   ]
  },
  {
   "cell_type": "code",
   "execution_count": 75,
   "metadata": {},
   "outputs": [
    {
     "name": "stdout",
     "output_type": "stream",
     "text": [
      "\n",
      "Input: \n",
      "    Temp Wind  Humidity  Outlook_0  Outlook_1  Outlook_2\n",
      "0     H    F         1        0.0        1.0        0.0\n",
      "1     H    T         2        0.0        1.0        0.0\n",
      "2     H    F         1        1.0        0.0        0.0\n",
      "3     M    F         1        0.0        1.0        0.0\n",
      "4     C    F         1        0.0        0.0        1.0\n",
      "5     C    T         0        1.0        0.0        0.0\n",
      "6     C    T         1        1.0        0.0        0.0\n",
      "7     M    F         1        0.0        1.0        0.0\n",
      "8     C    F         0        1.0        0.0        0.0\n",
      "9     M    F         2        0.0        0.0        1.0\n",
      "10    C    T         2        0.0        1.0        0.0\n",
      "11    M    T         0        1.0        0.0        0.0\n",
      "12    H    F         1        1.0        0.0        0.0\n",
      "13    M    T         1        0.0        0.0        1.0\n"
     ]
    }
   ],
   "source": [
    "#For Outlook\n",
    "X_outlook = pd.DataFrame(outlook, columns=[\"Outlook_\" + str(int (i)) for i in range(X.shape[1]-1)])\n",
    "X = pd.concat([X, X_outlook], axis=1)\n",
    "X = X.drop(['Outlook'], axis=1)\n",
    "\n",
    "print(\"\\nInput: \\n\", X)"
   ]
  },
  {
   "cell_type": "code",
   "execution_count": 76,
   "metadata": {},
   "outputs": [
    {
     "name": "stdout",
     "output_type": "stream",
     "text": [
      "\n",
      "Input: \n",
      "    Wind  Humidity  Outlook_0  Outlook_1  Outlook_2  Temp_0  Temp_1  Temp_2\n",
      "0     F         1        0.0        1.0        0.0     0.0     1.0     0.0\n",
      "1     T         2        0.0        1.0        0.0     0.0     1.0     0.0\n",
      "2     F         1        1.0        0.0        0.0     0.0     1.0     0.0\n",
      "3     F         1        0.0        1.0        0.0     0.0     0.0     1.0\n",
      "4     F         1        0.0        0.0        1.0     1.0     0.0     0.0\n",
      "5     T         0        1.0        0.0        0.0     1.0     0.0     0.0\n",
      "6     T         1        1.0        0.0        0.0     1.0     0.0     0.0\n",
      "7     F         1        0.0        1.0        0.0     0.0     0.0     1.0\n",
      "8     F         0        1.0        0.0        0.0     1.0     0.0     0.0\n",
      "9     F         2        0.0        0.0        1.0     0.0     0.0     1.0\n",
      "10    T         2        0.0        1.0        0.0     1.0     0.0     0.0\n",
      "11    T         0        1.0        0.0        0.0     0.0     0.0     1.0\n",
      "12    F         1        1.0        0.0        0.0     0.0     1.0     0.0\n",
      "13    T         1        0.0        0.0        1.0     0.0     0.0     1.0\n"
     ]
    }
   ],
   "source": [
    "#For Temp\n",
    "X_temp = pd.DataFrame(temp, columns=[\"Temp_\" + str(int (i)) for i in range(X.shape[1]-3)])\n",
    "X = pd.concat([X, X_temp], axis=1)\n",
    "X = X.drop(['Temp'], axis=1)\n",
    "\n",
    "print(\"\\nInput: \\n\", X)"
   ]
  },
  {
   "cell_type": "code",
   "execution_count": 77,
   "metadata": {},
   "outputs": [
    {
     "name": "stdout",
     "output_type": "stream",
     "text": [
      "\n",
      "Input: \n",
      "     Humidity  Outlook_0  Outlook_1  Outlook_2  Temp_0  Temp_1  Temp_2  Wind_0  \\\n",
      "0          1        0.0        1.0        0.0     0.0     1.0     0.0     1.0   \n",
      "1          2        0.0        1.0        0.0     0.0     1.0     0.0     0.0   \n",
      "2          1        1.0        0.0        0.0     0.0     1.0     0.0     1.0   \n",
      "3          1        0.0        1.0        0.0     0.0     0.0     1.0     1.0   \n",
      "4          1        0.0        0.0        1.0     1.0     0.0     0.0     1.0   \n",
      "5          0        1.0        0.0        0.0     1.0     0.0     0.0     0.0   \n",
      "6          1        1.0        0.0        0.0     1.0     0.0     0.0     0.0   \n",
      "7          1        0.0        1.0        0.0     0.0     0.0     1.0     1.0   \n",
      "8          0        1.0        0.0        0.0     1.0     0.0     0.0     1.0   \n",
      "9          2        0.0        0.0        1.0     0.0     0.0     1.0     1.0   \n",
      "10         2        0.0        1.0        0.0     1.0     0.0     0.0     0.0   \n",
      "11         0        1.0        0.0        0.0     0.0     0.0     1.0     0.0   \n",
      "12         1        1.0        0.0        0.0     0.0     1.0     0.0     1.0   \n",
      "13         1        0.0        0.0        1.0     0.0     0.0     1.0     0.0   \n",
      "\n",
      "    Wind_1  \n",
      "0      0.0  \n",
      "1      1.0  \n",
      "2      0.0  \n",
      "3      0.0  \n",
      "4      0.0  \n",
      "5      1.0  \n",
      "6      1.0  \n",
      "7      0.0  \n",
      "8      0.0  \n",
      "9      0.0  \n",
      "10     1.0  \n",
      "11     1.0  \n",
      "12     0.0  \n",
      "13     1.0  \n"
     ]
    }
   ],
   "source": [
    "#For Wind\n",
    "X_wind = pd.DataFrame(wind, columns=[\"Wind_\" + str(int (i)) for i in range(X.shape[1]-6)])\n",
    "X = pd.concat([X, X_wind], axis=1)\n",
    "X = X.drop(['Wind'], axis=1)\n",
    "\n",
    "print(\"\\nInput: \\n\", X)"
   ]
  },
  {
   "cell_type": "code",
   "execution_count": 78,
   "metadata": {},
   "outputs": [
    {
     "name": "stdout",
     "output_type": "stream",
     "text": [
      "\n",
      "Input: \n",
      " [[1. 0. 1. 0. 0. 1. 0. 1. 0.]\n",
      " [2. 0. 1. 0. 0. 1. 0. 0. 1.]\n",
      " [1. 1. 0. 0. 0. 1. 0. 1. 0.]\n",
      " [1. 0. 1. 0. 0. 0. 1. 1. 0.]\n",
      " [1. 0. 0. 1. 1. 0. 0. 1. 0.]\n",
      " [0. 1. 0. 0. 1. 0. 0. 0. 1.]\n",
      " [1. 1. 0. 0. 1. 0. 0. 0. 1.]\n",
      " [1. 0. 1. 0. 0. 0. 1. 1. 0.]\n",
      " [0. 1. 0. 0. 1. 0. 0. 1. 0.]\n",
      " [2. 0. 0. 1. 0. 0. 1. 1. 0.]\n",
      " [2. 0. 1. 0. 1. 0. 0. 0. 1.]\n",
      " [0. 1. 0. 0. 0. 0. 1. 0. 1.]\n",
      " [1. 1. 0. 0. 0. 1. 0. 1. 0.]\n",
      " [1. 0. 0. 1. 0. 0. 1. 0. 1.]]\n"
     ]
    }
   ],
   "source": [
    "X = X.values\n",
    "print(\"\\nInput: \\n\", X)"
   ]
  },
  {
   "cell_type": "code",
   "execution_count": 79,
   "metadata": {},
   "outputs": [],
   "source": [
    "#import the necessary module\n",
    "from sklearn.model_selection import train_test_split\n",
    "\n",
    "#split data set into train and test sets\n",
    "data_train, data_test, target_train, target_test = train_test_split(X, y, test_size = 0.05, random_state = 128)"
   ]
  },
  {
   "cell_type": "code",
   "execution_count": 80,
   "metadata": {},
   "outputs": [
    {
     "data": {
      "text/plain": [
       "array([1, 0, 0], dtype=int64)"
      ]
     },
     "execution_count": 80,
     "metadata": {},
     "output_type": "execute_result"
    }
   ],
   "source": [
    "from sklearn.naive_bayes import GaussianNB\n",
    "\n",
    "gaussiannb = GaussianNB()\n",
    "\n",
    "gaussiannb.fit(data_train, target_train)\n",
    "\n",
    "target_pred = gaussiannb.predict(data_test)\n",
    "target_pred"
   ]
  },
  {
   "cell_type": "code",
   "execution_count": 81,
   "metadata": {},
   "outputs": [
    {
     "name": "stdout",
     "output_type": "stream",
     "text": [
      "Accuracy: 0.6666666666666666\n"
     ]
    }
   ],
   "source": [
    "#Import scikit-learn metrics module for accuracy calculation\n",
    "from sklearn import metrics\n",
    "\n",
    "# Model Accuracy, how often is the classifier correct?\n",
    "print(\"Accuracy:\",metrics.accuracy_score(target_test, target_pred))"
   ]
  },
  {
   "cell_type": "code",
   "execution_count": 82,
   "metadata": {},
   "outputs": [
    {
     "data": {
      "text/plain": [
       "array([[1, 0],\n",
       "       [1, 1]], dtype=int64)"
      ]
     },
     "execution_count": 82,
     "metadata": {},
     "output_type": "execute_result"
    }
   ],
   "source": [
    "#Import confusion_matrix from scikit-learn metrics module for confusion_matrix\n",
    "from sklearn.metrics import confusion_matrix\n",
    "confusion_matrix(target_test, target_pred)"
   ]
  },
  {
   "cell_type": "code",
   "execution_count": 83,
   "metadata": {},
   "outputs": [
    {
     "name": "stdout",
     "output_type": "stream",
     "text": [
      "precision: [0.5 1. ]\n",
      "recall: [1.  0.5]\n"
     ]
    }
   ],
   "source": [
    "from sklearn.metrics import precision_score\n",
    "from sklearn.metrics import recall_score\n",
    "precision = precision_score(target_test, target_pred, average=None)\n",
    "recall = recall_score(target_test, target_pred, average=None)\n",
    "print('precision: {}'.format(precision))\n",
    "print('recall: {}'.format(recall))"
   ]
  },
  {
   "attachments": {},
   "cell_type": "markdown",
   "metadata": {},
   "source": [
    "**3.1 Questions for task-1**"
   ]
  },
  {
   "cell_type": "code",
   "execution_count": 84,
   "metadata": {},
   "outputs": [
    {
     "name": "stdout",
     "output_type": "stream",
     "text": [
      "Predicted Value: [0]\n"
     ]
    }
   ],
   "source": [
    "#What will be the value of Play, if Outlook is ’Rainy’, Temperature is ’Mild’, Humidity =’Normal’, and Wind = ’False’?\n",
    "predicted= gaussiannb.predict([[1, 0, 1, 0, 0, 0, 1, 1, 0]]) # 0, 0, 1, 0, 0, 0, 1, 1, 0\n",
    "print(\"Predicted Value:\", predicted)"
   ]
  },
  {
   "cell_type": "code",
   "execution_count": 85,
   "metadata": {},
   "outputs": [
    {
     "name": "stdout",
     "output_type": "stream",
     "text": [
      "Predicted Value: [0]\n"
     ]
    }
   ],
   "source": [
    "#What will be the value of Play, if Outlook is ’Sunny’, Temeprature is ’Cool’, Humidity =’High’, and Wind = ’True’?\n",
    "predicted= gaussiannb.predict([[2, 0, 0, 1, 1, 0, 0, 0, 1]]) # 2, 0, 0, 1, 1, 0, 0, 0, 1\n",
    "print(\"Predicted Value:\", predicted)"
   ]
  },
  {
   "attachments": {},
   "cell_type": "markdown",
   "metadata": {},
   "source": [
    "**Exerise Question**\n",
    "- Task 2: Apply algorithm on wine dataset - LabelEncoding of features: and Train test Division 50-50%"
   ]
  },
  {
   "cell_type": "code",
   "execution_count": 86,
   "metadata": {},
   "outputs": [],
   "source": [
    "from sklearn import datasets\n",
    "\n",
    "wine = datasets.load_wine()"
   ]
  },
  {
   "cell_type": "code",
   "execution_count": 87,
   "metadata": {},
   "outputs": [
    {
     "name": "stdout",
     "output_type": "stream",
     "text": [
      "Features:  ['alcohol', 'malic_acid', 'ash', 'alcalinity_of_ash', 'magnesium', 'total_phenols', 'flavanoids', 'nonflavanoid_phenols', 'proanthocyanins', 'color_intensity', 'hue', 'od280/od315_of_diluted_wines', 'proline']\n",
      "\n",
      "Labels:  ['class_0' 'class_1' 'class_2']\n"
     ]
    }
   ],
   "source": [
    "# print the names of the 13 features\n",
    "print(\"Features: \", wine.feature_names)\n",
    "\n",
    "# print the label type of wine(class_0, class_1, class_2)\n",
    "print(\"\\nLabels: \", wine.target_names)"
   ]
  },
  {
   "cell_type": "code",
   "execution_count": 88,
   "metadata": {},
   "outputs": [],
   "source": [
    "X1 = wine.data\n",
    "y1 = wine.target\n",
    "\n",
    "X_train1, X_test1, y_train1, y_test1 = train_test_split(X1, y1, test_size = 0.5, random_state=128)"
   ]
  },
  {
   "cell_type": "code",
   "execution_count": 89,
   "metadata": {},
   "outputs": [
    {
     "data": {
      "text/plain": [
       "array([0, 0, 1, 1, 1, 1, 0, 2, 2, 1, 2, 0, 0, 0, 2, 2, 0, 0, 2, 2, 1, 1,\n",
       "       1, 0, 2, 1, 0, 1, 1, 0, 1, 2, 1, 0, 1, 1, 1, 1, 0, 1, 0, 2, 2, 1,\n",
       "       0, 1, 0, 2, 2, 2, 1, 1, 2, 1, 1, 1, 0, 2, 0, 2, 1])"
      ]
     },
     "execution_count": 89,
     "metadata": {},
     "output_type": "execute_result"
    }
   ],
   "source": [
    "gaussiannb = GaussianNB()\n",
    "\n",
    "gaussiannb.fit(X_train1, y_train1)\n",
    "\n",
    "target_pred1 = gaussiannb.predict(X_test1)\n",
    "target_pred1"
   ]
  },
  {
   "cell_type": "code",
   "execution_count": 90,
   "metadata": {},
   "outputs": [
    {
     "name": "stdout",
     "output_type": "stream",
     "text": [
      "Accuracy: 0.9672131147540983\n"
     ]
    }
   ],
   "source": [
    "# Model Accuracy, how often is the classifier correct?\n",
    "print(\"Accuracy:\",metrics.accuracy_score(y_test1, target_pred1))"
   ]
  },
  {
   "cell_type": "code",
   "execution_count": 91,
   "metadata": {},
   "outputs": [
    {
     "data": {
      "text/plain": [
       "array([[18,  2,  0],\n",
       "       [ 0, 24,  0],\n",
       "       [ 0,  0, 17]], dtype=int64)"
      ]
     },
     "execution_count": 91,
     "metadata": {},
     "output_type": "execute_result"
    }
   ],
   "source": [
    "confusion_matrix(y_test1, target_pred1)"
   ]
  },
  {
   "cell_type": "code",
   "execution_count": 92,
   "metadata": {},
   "outputs": [
    {
     "name": "stdout",
     "output_type": "stream",
     "text": [
      "precision: [1.         0.92307692 1.        ]\n",
      "recall: [0.9 1.  1. ]\n"
     ]
    }
   ],
   "source": [
    "from sklearn.metrics import precision_score\n",
    "from sklearn.metrics import recall_score\n",
    "precision = precision_score(y_test1, target_pred1, average=None)\n",
    "recall = recall_score(y_test1, target_pred1, average=None)\n",
    "print('precision: {}'.format(precision))\n",
    "print('recall: {}'.format(recall))"
   ]
  }
 ],
 "metadata": {
  "kernelspec": {
   "display_name": "ml_lab",
   "language": "python",
   "name": "python3"
  },
  "language_info": {
   "codemirror_mode": {
    "name": "ipython",
    "version": 3
   },
   "file_extension": ".py",
   "mimetype": "text/x-python",
   "name": "python",
   "nbconvert_exporter": "python",
   "pygments_lexer": "ipython3",
   "version": "3.11.1"
  },
  "orig_nbformat": 4,
  "vscode": {
   "interpreter": {
    "hash": "2d7e892471c529487db08243664acf6a81b7394e9446693cb64c29aeeda7c180"
   }
  }
 },
 "nbformat": 4,
 "nbformat_minor": 2
}
